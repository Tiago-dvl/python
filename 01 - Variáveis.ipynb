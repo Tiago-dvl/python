{
 "cells": [
  {
   "cell_type": "markdown",
   "id": "95f3b0ab-e530-42a8-a477-26492c2c0762",
   "metadata": {},
   "source": [
    "# VARIÁVEIS"
   ]
  },
  {
   "cell_type": "markdown",
   "id": "b99115bc-1525-49cc-a763-1dc56a39fc85",
   "metadata": {},
   "source": [
    "### ESTUDO\n",
    "### Os códigos abaixo foram gerados inicialmente pelo Gemini e ajustados com pequenas modificações para desenvolver o aprendizado. "
   ]
  },
  {
   "cell_type": "code",
   "execution_count": 1,
   "id": "6c9b8848-f4fa-4d6d-b7c6-d71eb77f7e00",
   "metadata": {},
   "outputs": [
    {
     "name": "stdout",
     "output_type": "stream",
     "text": [
      "28\n",
      "Jonas\n",
      "1.73\n",
      "True\n",
      "[4, 8, 15, 16, 23, 42]\n",
      "(10.0, 20.5)\n",
      "{'nome': 'Maria', 'idade': 30, 'cidade': 'Belem'}\n"
     ]
    }
   ],
   "source": [
    "# INT\n",
    "idade = 28\n",
    "print(idade)\n",
    "\n",
    "# STRING\n",
    "nome = \"Jonas\"\n",
    "print(nome)\n",
    "\n",
    "# FLOAT\n",
    "altura = 1.73\n",
    "print(altura)\n",
    "\n",
    "# BOOLEANO\n",
    "casado = True\n",
    "print(casado)\n",
    "\n",
    "# Lista\n",
    "numeros_sorte = [4,8,15,16,23,42]\n",
    "print(numeros_sorte)\n",
    "\n",
    "# TUPLA\n",
    "coordenadas = (10.0, 20.5)\n",
    "print(coordenadas)\n",
    "\n",
    "# DICIONARIO\n",
    "dados_usuario = {\"nome\":\"Maria\",\n",
    "                 \"idade\": 30,\n",
    "                 \"cidade\":\"Belem\"}\n",
    "print(dados_usuario)"
   ]
  },
  {
   "cell_type": "markdown",
   "id": "eb8a007c-919b-4a07-a85b-1276e3b6eb07",
   "metadata": {},
   "source": [
    "### PRÁTICA\n",
    "### Os códigos foram desenvolvidos manualmente a partir de estudo e conhecimento próprio. As sugestões de atividades e dicas foram geradas pelo Gemini, sem inclusão de código. "
   ]
  },
  {
   "cell_type": "markdown",
   "id": "2607991d-5ebb-41bc-8080-8dcb0bc7525a",
   "metadata": {},
   "source": [
    "#### 1) Atividade Básica\n",
    "Crie três variáveis:\n",
    "\n",
    "* Uma para guardar seu nome e sobrenome (tipo texto).\n",
    "* Uma para guardar sua idade (tipo número inteiro).\n",
    "* Uma para guardar seu peso (tipo número decimal).\n",
    "Depois, imprima o valor de cada uma dessas variáveis."
   ]
  },
  {
   "cell_type": "code",
   "execution_count": 2,
   "id": "b76a693b-d92f-4187-98b7-5cf5a8bf7243",
   "metadata": {},
   "outputs": [
    {
     "name": "stdout",
     "output_type": "stream",
     "text": [
      "Tiago Pinheiro\n",
      "30\n",
      "71\n"
     ]
    }
   ],
   "source": [
    "nome_sobrenome = \"Tiago Pinheiro\"\n",
    "idade_atual = 30\n",
    "peso_atual = 71\n",
    "\n",
    "print(nome_sobrenome)\n",
    "print(idade_atual)\n",
    "print(peso_atual)"
   ]
  },
  {
   "cell_type": "markdown",
   "id": "d4c1daeb-54f4-484a-bb16-e61d2db5efc1",
   "metadata": {},
   "source": [
    "#### 2) Atividade Intermediária\n",
    "Crie uma variável chamada saldo_conta e atribua a ela um valor inicial (por exemplo, 1000.00).\n",
    "\n",
    "Em seguida, faça as seguintes operações utilizando essa variável:\n",
    "\n",
    "* Deposite um valor (ex: 250.00) adicionando-o ao saldo_conta.\n",
    "* Saque um valor (ex: 120.50) subtraindo-o do saldo_conta.\n",
    "* Mostre o valor do saldo atual.\n",
    "\n",
    "Após cada operação (depósito, saque e valor atual), imprima o valor atual do saldo_conta."
   ]
  },
  {
   "cell_type": "code",
   "execution_count": 4,
   "id": "1e8ad35c-fa94-4058-97e6-8f60066b5c8a",
   "metadata": {},
   "outputs": [
    {
     "name": "stdout",
     "output_type": "stream",
     "text": [
      "------------------------------------------------\n",
      "Menu de Operações:\n",
      "------------------------------------------------\n",
      "01 = Sacar\n",
      "02 = Depositar\n",
      "03 = Ver Saldo\n",
      "04 = Sair\n",
      "\n",
      "\n",
      "------------------------------------------------\n"
     ]
    },
    {
     "name": "stdin",
     "output_type": "stream",
     "text": [
      "Digite o número da operação:  ········\n",
      "Valor do Saque:  ········\n"
     ]
    },
    {
     "name": "stdout",
     "output_type": "stream",
     "text": [
      "Saque R$  245\n",
      "Saldo Atual R$  755\n"
     ]
    }
   ],
   "source": [
    "import getpass # Biblioteca para ocultar caracteres\n",
    "\n",
    "saldo_conta = 1000\n",
    "\n",
    "print(\"------------------------------------------------\")\n",
    "print(\"Menu de Operações:\")\n",
    "print(\"------------------------------------------------\")\n",
    "print(\"01 = Sacar\")\n",
    "print(\"02 = Depositar\")\n",
    "print(\"03 = Ver Saldo\")\n",
    "print(\"04 = Sair\")\n",
    "\n",
    "print(\"\\n\")\n",
    "\n",
    "print(\"------------------------------------------------\")\n",
    "\n",
    "operacao = getpass.getpass(\"Digite o número da operação: \")\n",
    "\n",
    "while True:\n",
    "     if operacao == '01':\n",
    "         valor_saque = getpass.getpass(\"Valor do Saque: \")\n",
    "         print(\"Saque R$ \",valor_saque)\n",
    "         var_saque = int(saldo_conta - int(valor_saque))\n",
    "         print(\"Saldo Atual R$ \", var_saque)\n",
    "         break\n",
    "\n",
    "     if operacao == '02':\n",
    "         valor_deposito = getpass.getpass(\"Valor do Deposito: \")\n",
    "         print(\"Deposito R$ \",valor_deposito)\n",
    "         var_deposito = int(saldo_conta + int(valor_deposito))\n",
    "         print(\"Saldo Atual R$ \", var_deposito)\n",
    "         break\n",
    "\n",
    "     if operacao == '03':\n",
    "         print('Saldo Atual R$ ' ,saldo_conta)\n",
    "         break\n",
    "\n",
    "     if operacao == '04':\n",
    "         print('Obrigado por utilizar nossos serviços, volte sempre!')\n",
    "         break\n",
    "\n",
    "         "
   ]
  }
 ],
 "metadata": {
  "kernelspec": {
   "display_name": "Python 3 (ipykernel)",
   "language": "python",
   "name": "python3"
  },
  "language_info": {
   "codemirror_mode": {
    "name": "ipython",
    "version": 3
   },
   "file_extension": ".py",
   "mimetype": "text/x-python",
   "name": "python",
   "nbconvert_exporter": "python",
   "pygments_lexer": "ipython3",
   "version": "3.13.5"
  }
 },
 "nbformat": 4,
 "nbformat_minor": 5
}
