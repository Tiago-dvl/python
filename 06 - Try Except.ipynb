{
 "cells": [
  {
   "cell_type": "markdown",
   "id": "1e946cc2-3028-4b29-ba24-25cbf1a134c1",
   "metadata": {},
   "source": [
    "# TRY ... EXCEPT"
   ]
  },
  {
   "cell_type": "markdown",
   "id": "b2abe533-6431-4a0a-ab98-5d8f8754796d",
   "metadata": {},
   "source": [
    "### ESTUDO\n",
    "### Os códigos abaixo foram gerados inicialmente pelo Gemini e ajustados com pequenas modificações para desenvolver o aprendizado. "
   ]
  },
  {
   "cell_type": "code",
   "execution_count": null,
   "id": "343228e5-d6c5-439d-a702-984ea2fdeb19",
   "metadata": {},
   "outputs": [],
   "source": [
    "# SINTAXE\n",
    "\n",
    "# Listar Tipos de erros\n",
    "\n",
    "try:\n",
    "    # Código que pode causar um erro\n",
    "    # (Plano A)\n",
    "except TipoDeErroEspecifico:\n",
    "    # Código a ser executado se o TipoDeErroEspecifico ocorrer\n",
    "    # (Plano B para esse erro)\n",
    "except OutroTipoDeErro:\n",
    "    # Plano B para outro erro\n",
    "except: # Captura qualquer outro erro (genérico)\n",
    "    # Plano B para erros não especificados\n",
    "else:\n",
    "    # Opcional: Código a ser executado se NENHUM erro ocorrer no 'try'\n",
    "finally:\n",
    "    # Opcional: Código a ser executado SEMPRE, ocorrendo erro ou não"
   ]
  },
  {
   "cell_type": "code",
   "execution_count": 8,
   "id": "5062ff06-fa6b-48d7-82ff-c00da0069e03",
   "metadata": {},
   "outputs": [
    {
     "name": "stdout",
     "output_type": "stream",
     "text": [
      "10.0\n"
     ]
    }
   ],
   "source": [
    "try:\n",
    "    resultado = 10 / 1\n",
    "    print(resultado)\n",
    "except ZeroDivisionError:\n",
    "    print(\"Erro\")\n",
    "    "
   ]
  },
  {
   "cell_type": "code",
   "execution_count": 10,
   "id": "56a83c5a-0bfd-4aac-87e3-7e72ddca98ad",
   "metadata": {},
   "outputs": [
    {
     "name": "stdin",
     "output_type": "stream",
     "text": [
      "Digite sua idade:  r\n"
     ]
    },
    {
     "name": "stdout",
     "output_type": "stream",
     "text": [
      "Erro\n"
     ]
    }
   ],
   "source": [
    "try:\n",
    "    idade = int(input(\"Digite sua idade: \"))\n",
    "    print(f\"Sua idade é: {idade}\")\n",
    "except ValueError:\n",
    "    print(\"Erro\")"
   ]
  },
  {
   "cell_type": "code",
   "execution_count": 11,
   "id": "33dced55-6227-4975-a0a6-76ef38c8b1b8",
   "metadata": {},
   "outputs": [
    {
     "name": "stdout",
     "output_type": "stream",
     "text": [
      "Erro: O arquivo 'meu_arquivo.txt' não foi encontrado.\n",
      "Tentativa de operação com arquivo finalizada.\n"
     ]
    }
   ],
   "source": [
    "try:\n",
    "    arquivo = open(\"meu_arquivo.txt\", \"r\") # Tenta abrir um arquivo que pode não existir\n",
    "    conteudo = arquivo.read()\n",
    "    print(conteudo)\n",
    "except FileNotFoundError:\n",
    "    print(\"Erro: O arquivo 'meu_arquivo.txt' não foi encontrado.\")\n",
    "except Exception as e: # Captura qualquer outro erro e armazena na variável 'e'\n",
    "    print(f\"Ocorreu um erro inesperado: {e}\")\n",
    "else:\n",
    "    print(\"Arquivo lido com sucesso!\")\n",
    "finally:\n",
    "    print(\"Tentativa de operação com arquivo finalizada.\")\n",
    "    # Se 'arquivo' foi definido no try, tenta fechar\n",
    "    if 'arquivo' in locals() and not arquivo.closed:\n",
    "        arquivo.close()\n",
    "        print(\"Arquivo fechado (se aberto).\")\n",
    "\n",
    "# Se 'meu_arquivo.txt' não existe:\n",
    "# Saída:\n",
    "# Erro: O arquivo 'meu_arquivo.txt' não foi encontrado.\n",
    "# Tentativa de operação com arquivo finalizada.\n",
    "# Arquivo fechado (se aberto)."
   ]
  },
  {
   "cell_type": "markdown",
   "id": "d08cdf4e-eb22-434d-af2f-83ff5ade342e",
   "metadata": {},
   "source": [
    "### PRÁTICA\n",
    "### Os códigos foram desenvolvidos manualmente a partir de estudo e conhecimento próprio. As sugestões de atividades e dicas foram geradas pelo Gemini, sem inclusão de código. "
   ]
  },
  {
   "cell_type": "code",
   "execution_count": null,
   "id": "87b80186-33af-4e00-9648-3d4efaf93155",
   "metadata": {},
   "outputs": [],
   "source": []
  },
  {
   "cell_type": "code",
   "execution_count": 18,
   "id": "55e1a251-aa12-4e40-9a24-7272648b55ed",
   "metadata": {},
   "outputs": [
    {
     "name": "stdin",
     "output_type": "stream",
     "text": [
      "Digite o primeiro número:  q\n"
     ]
    },
    {
     "name": "stdout",
     "output_type": "stream",
     "text": [
      "Erro de valor!\n"
     ]
    }
   ],
   "source": [
    "try:\n",
    "    numero01 = int(input(\"Digite o primeiro número: \"))\n",
    "    numero02 = int(input(\"Digite o segundo número:  \"))\n",
    "    divisao = numero01 / numero02\n",
    "    print(f\"O resultado é: {divisao}\")\n",
    "except ValueError:\n",
    "    print(\"Erro de valor!\")\n",
    "except ZeroDivisionError:\n",
    "    print(\"Divisao por 0 não permitida!\")"
   ]
  },
  {
   "cell_type": "code",
   "execution_count": null,
   "id": "7deac887-bbe3-4a2f-a522-23349c4daee6",
   "metadata": {},
   "outputs": [],
   "source": [
    "\n"
   ]
  }
 ],
 "metadata": {
  "kernelspec": {
   "display_name": "Python 3 (ipykernel)",
   "language": "python",
   "name": "python3"
  },
  "language_info": {
   "codemirror_mode": {
    "name": "ipython",
    "version": 3
   },
   "file_extension": ".py",
   "mimetype": "text/x-python",
   "name": "python",
   "nbconvert_exporter": "python",
   "pygments_lexer": "ipython3",
   "version": "3.13.5"
  }
 },
 "nbformat": 4,
 "nbformat_minor": 5
}
