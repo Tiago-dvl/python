{
 "cells": [
  {
   "cell_type": "markdown",
   "id": "ae445617-3e39-49aa-ae91-5b0aa2b01fe1",
   "metadata": {},
   "source": [
    "# MATCH"
   ]
  },
  {
   "cell_type": "markdown",
   "id": "4b1e84c6-85a4-4d70-b943-db1054469a00",
   "metadata": {},
   "source": [
    "### ESTUDO\n",
    "### Os códigos abaixo foram gerados inicialmente pelo Gemini e ajustados com pequenas modificações para desenvolver o aprendizado. "
   ]
  },
  {
   "cell_type": "code",
   "execution_count": 18,
   "id": "74dbe45b-4ace-4509-917c-e2fd048355a6",
   "metadata": {},
   "outputs": [
    {
     "name": "stdout",
     "output_type": "stream",
     "text": [
      "Domingo\n",
      "7\n"
     ]
    }
   ],
   "source": [
    "# ESTRUTURA\n",
    "\n",
    "dia_semana = 7\n",
    "\n",
    "match dia_semana:\n",
    "    case 1:\n",
    "        print(\"Segunda\")\n",
    "    case 2:\n",
    "        print(\"Terça\")\n",
    "    case 3:\n",
    "        print(\"Quarta\")\n",
    "    case 4:\n",
    "        print(\"Quinta\")\n",
    "    case 5:\n",
    "        print(\"Sexta\")\n",
    "    case 6:\n",
    "        print(\"Sábado\")\n",
    "    case 7:\n",
    "        print(\"Domingo\")\n",
    "\n",
    "print(dia_semana)"
   ]
  },
  {
   "cell_type": "code",
   "execution_count": 23,
   "id": "8c85ab45-0245-4c4b-8721-b4eea283442d",
   "metadata": {},
   "outputs": [
    {
     "name": "stdout",
     "output_type": "stream",
     "text": [
      "Outro Numero escolhido!\n"
     ]
    }
   ],
   "source": [
    "# USANDO BLOCO PADRAO CASO NENHUMA CONRRESPONDENCIA ATENDA\n",
    "\n",
    "numero_escolhido = 40\n",
    "\n",
    "match numero_escolhido:\n",
    "    case 10:\n",
    "        print(\"Numero 10\")\n",
    "    case 20:\n",
    "        print(\"Numero 20\")\n",
    "    case 30:\n",
    "        print(\"Numero 30\")\n",
    "    case _:\n",
    "        print(\"Outro Numero escolhido!\")\n",
    "\n"
   ]
  },
  {
   "cell_type": "code",
   "execution_count": 25,
   "id": "f92fbcd7-5294-4be1-b9b7-f27345e445fa",
   "metadata": {},
   "outputs": [
    {
     "name": "stdout",
     "output_type": "stream",
     "text": [
      "Final de Semana!\n"
     ]
    }
   ],
   "source": [
    "# BLOCO COM COMBINAÇÃO DE VALORES\n",
    "\n",
    "dia_semana_numero = 6\n",
    "\n",
    "match dia_semana_numero:\n",
    "    case 1 | 2 | 3 | 4 | 5:\n",
    "        print(\"Dia de Trabalho!\")\n",
    "    case 6 | 7:\n",
    "        print(\"Final de Semana!\")"
   ]
  },
  {
   "cell_type": "code",
   "execution_count": 28,
   "id": "84ba9c4f-780e-4b16-8dfd-e38e24941373",
   "metadata": {},
   "outputs": [
    {
     "name": "stdout",
     "output_type": "stream",
     "text": [
      "Férias\n"
     ]
    }
   ],
   "source": [
    "# BLOCO COM CONDIÇÃO IF DENTRO DO CASE\n",
    "\n",
    "mes = 7\n",
    "dia = 6\n",
    "\n",
    "match dia:\n",
    "    case 1 | 2 | 3 | 4 | 5 | 6 | 7 | 8 if mes == 7:\n",
    "        print(\"Férias\")\n",
    "    case  1 | 2 | 3 | 4 | 5 | 6 | 7 | 8 if mes == 6:\n",
    "        print(\"Trabalho\")\n",
    "    case _:\n",
    "        print(\"Trabalho\")"
   ]
  },
  {
   "cell_type": "markdown",
   "id": "86cf3a9b-6251-4ca6-ada2-3338a4e90774",
   "metadata": {},
   "source": [
    "### PRÁTICA\n",
    "### Os códigos foram desenvolvidos manualmente a partir de estudo e conhecimento próprio. As sugestões de atividades e dicas foram geradas pelo Gemini, sem inclusão de código. "
   ]
  },
  {
   "cell_type": "code",
   "execution_count": 32,
   "id": "7d6549b8-978a-4d3f-a560-80ab4fa4b080",
   "metadata": {},
   "outputs": [
    {
     "name": "stdout",
     "output_type": "stream",
     "text": [
      "____________________________________________________________________\n",
      "_______ CARTAS DO UNO ______________________________________________\n",
      "____________________________________________________________________\n",
      "Mais Dois\n",
      "Um\n",
      "Mais Quatro\n",
      "Dois\n",
      "Sete\n",
      "Inverso\n",
      "Oito\n",
      "Bloqueio\n",
      "Nove\n",
      "Tres\n",
      "Mudar Cor\n",
      "\n",
      "\n",
      "Digite a carta que vc tirou!\n"
     ]
    },
    {
     "name": "stdin",
     "output_type": "stream",
     "text": [
      " Inverso\n"
     ]
    },
    {
     "name": "stdout",
     "output_type": "stream",
     "text": [
      "Carta Especial\n"
     ]
    }
   ],
   "source": [
    "print(\"____________________________________________________________________\")\n",
    "print(\"_______ CARTAS DO UNO ______________________________________________\")\n",
    "print(\"____________________________________________________________________\")\n",
    "\n",
    "print(\"Mais Dois\")\n",
    "print(\"Um\")\n",
    "print(\"Mais Quatro\")\n",
    "print(\"Dois\")\n",
    "print(\"Sete\")\n",
    "print(\"Inverso\")\n",
    "print(\"Oito\")\n",
    "print(\"Bloqueio\")\n",
    "print(\"Nove\")\n",
    "print(\"Tres\")\n",
    "print(\"Mudar Cor\")\n",
    "\n",
    "print(\"\\n\")\n",
    "\n",
    "print(\"Digite a carta que vc tirou!\")\n",
    "\"Mais Dois\"\n",
    "\"Mais Quatro\"\n",
    "\"Inverso\"\n",
    "\"Bloqueio\"\n",
    "\"Mudar Cor\"\n",
    "carta = input()\n",
    "\n",
    "match carta:\n",
    "    case \"Mais Dois\" | \"Mais Quatro\" | \"Inverso\" | \"Bloqueio\" | \"Mudar Cor\":\n",
    "        print(\"Carta Especial\")\n",
    "    case _:\n",
    "        print(\"Carta Normal\")\n",
    " \n",
    "\n",
    "\n",
    "\n",
    "\n",
    "    "
   ]
  }
 ],
 "metadata": {
  "kernelspec": {
   "display_name": "Python 3 (ipykernel)",
   "language": "python",
   "name": "python3"
  },
  "language_info": {
   "codemirror_mode": {
    "name": "ipython",
    "version": 3
   },
   "file_extension": ".py",
   "mimetype": "text/x-python",
   "name": "python",
   "nbconvert_exporter": "python",
   "pygments_lexer": "ipython3",
   "version": "3.13.5"
  }
 },
 "nbformat": 4,
 "nbformat_minor": 5
}
