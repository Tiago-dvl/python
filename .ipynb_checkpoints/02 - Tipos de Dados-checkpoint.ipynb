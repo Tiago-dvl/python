{
 "cells": [
  {
   "cell_type": "markdown",
   "id": "8ec13f27-65ce-41f1-b8a0-468af77b3438",
   "metadata": {},
   "source": [
    "# TIPOS DE DADOS"
   ]
  },
  {
   "cell_type": "markdown",
   "id": "46e5db37-30ab-4fbc-9635-0a4b7bbf7c5b",
   "metadata": {},
   "source": [
    "### ESTUDO\n",
    "### Os códigos abaixo foram gerados inicialmente pelo Gemini e ajustados com pequenas modificações para desenvolver o aprendizado. "
   ]
  },
  {
   "cell_type": "code",
   "execution_count": 15,
   "id": "c2dde54b-d174-4ead-9c02-bd6cc8272344",
   "metadata": {},
   "outputs": [
    {
     "name": "stdout",
     "output_type": "stream",
     "text": [
      "<class 'int'>\n",
      "Total: 200\n"
     ]
    }
   ],
   "source": [
    "# INTERGER\n",
    "quantidade = 200\n",
    "print(type(quantidade))\n",
    "print(f\"Total: {quantidade}\")"
   ]
  },
  {
   "cell_type": "code",
   "execution_count": 14,
   "id": "efa6d02c-5dfc-4d8d-be23-9d28f817313e",
   "metadata": {},
   "outputs": [
    {
     "name": "stdout",
     "output_type": "stream",
     "text": [
      "<class 'float'>\n",
      "Temperatura = 24.6\n"
     ]
    }
   ],
   "source": [
    "# FLOAT\n",
    "temperatura = 24.6\n",
    "print(type(temperatura))\n",
    "print(f\"Temperatura = {temperatura}\")"
   ]
  },
  {
   "cell_type": "code",
   "execution_count": 20,
   "id": "372fb1c4-9562-4f6c-ae70-2b1665b57f97",
   "metadata": {},
   "outputs": [
    {
     "name": "stdout",
     "output_type": "stream",
     "text": [
      "<class 'complex'>\n",
      "Valor complexo: (4+6j)\n"
     ]
    }
   ],
   "source": [
    "# COMPLEX\n",
    "x = 4 + 6J\n",
    "print(type(x))\n",
    "print(f\"Valor complexo: {x}\")"
   ]
  },
  {
   "cell_type": "code",
   "execution_count": 22,
   "id": "e1283573-eab5-40ed-8977-bb0044779351",
   "metadata": {},
   "outputs": [
    {
     "name": "stdout",
     "output_type": "stream",
     "text": [
      "<class 'str'>\n",
      "O sistema diz: Olá, mundo!\n"
     ]
    }
   ],
   "source": [
    "# STRING\n",
    "menssagem = \"Olá, mundo!\"\n",
    "print(type(menssagem))\n",
    "print(f\"O sistema diz: {menssagem}\")"
   ]
  },
  {
   "cell_type": "code",
   "execution_count": 32,
   "id": "46023300-1472-469c-8c80-2efde3469635",
   "metadata": {},
   "outputs": [
    {
     "name": "stdout",
     "output_type": "stream",
     "text": [
      "<class 'list'>\n",
      "Fabricante de carros mais destacada: Lamborguini\n"
     ]
    }
   ],
   "source": [
    "# LIST\n",
    "carros = [\"Maserati\",\"Mustang\",\"Ferrari\",\"Mclaren\",\"Lamborguini\"]\n",
    "print(type(carros))\n",
    "print(f\"Fabricante de carros mais destacada: {carros[4]}\")"
   ]
  },
  {
   "cell_type": "code",
   "execution_count": 33,
   "id": "099f0708-ee98-4862-b7e3-55e9618570f5",
   "metadata": {},
   "outputs": [
    {
     "name": "stdout",
     "output_type": "stream",
     "text": [
      "<class 'tuple'>\n",
      "Dimenssão: (30, 15)\n"
     ]
    }
   ],
   "source": [
    "# TUPLE\n",
    "altura_largura = (30,15)\n",
    "print(type(altura_largura))\n",
    "print(f\"Dimenssão: {altura_largura}\")"
   ]
  },
  {
   "cell_type": "code",
   "execution_count": 10,
   "id": "821ec4a7-a94d-4c35-bf63-870dfdec7199",
   "metadata": {},
   "outputs": [
    {
     "name": "stdout",
     "output_type": "stream",
     "text": [
      "<class 'dict'>\n",
      "Dados Pessoa: {'nome': 'Mateus', 'idade': 25}\n"
     ]
    }
   ],
   "source": [
    "# DICTONARY\n",
    "pessoa = {\"nome\":\"Mateus\",\"idade\": 25}\n",
    "print(type(pessoa))\n",
    "print(f\"Dados Pessoa: {pessoa}\")"
   ]
  },
  {
   "cell_type": "code",
   "execution_count": 34,
   "id": "eb3b996a-e4d8-437d-915c-888473445bd2",
   "metadata": {},
   "outputs": [
    {
     "name": "stdout",
     "output_type": "stream",
     "text": [
      "<class 'range'>\n",
      "Ordem:  4\n"
     ]
    }
   ],
   "source": [
    "# RANGE\n",
    "sequencia = range(1,5)\n",
    "print(type(sequencia))\n",
    "print(f\"Ordem:  {sequencia[3]}\")"
   ]
  },
  {
   "cell_type": "code",
   "execution_count": 44,
   "id": "6ae43c1e-34e7-4d3c-b54c-368cdc36e12b",
   "metadata": {},
   "outputs": [
    {
     "name": "stdout",
     "output_type": "stream",
     "text": [
      "<class 'set'>\n",
      "Paleta de cores únicas: {'#FF5733', '#F0FF33', '#33FF57', '#3357FF'}\n"
     ]
    }
   ],
   "source": [
    "# SET (Retorna apenas dados ÚNICOS do conjunto)\n",
    "\n",
    "cor_paleta = {'#FF5733','#33FF57','#3357FF','#F0FF33','#FF5733'}\n",
    "print(type(cor_paleta))\n",
    "print(f\"Paleta de cores únicas: {cor_paleta}\")"
   ]
  },
  {
   "cell_type": "code",
   "execution_count": 46,
   "id": "f63ab95c-c22b-4573-8483-804d645f169c",
   "metadata": {},
   "outputs": [
    {
     "name": "stdout",
     "output_type": "stream",
     "text": [
      "<class 'bool'>\n",
      "Permissao do cliente = True\n"
     ]
    }
   ],
   "source": [
    "# BOOLEAN\n",
    "\n",
    "permissao_aceita = True\n",
    "print(type(permissao_aceita))\n",
    "print(f\"Permissao do cliente = {permissao_aceita}\")"
   ]
  },
  {
   "cell_type": "code",
   "execution_count": 51,
   "id": "b06bf633-22ef-493f-87a4-30b447c6e06c",
   "metadata": {},
   "outputs": [
    {
     "name": "stdout",
     "output_type": "stream",
     "text": [
      "<class 'NoneType'>\n",
      "Criança gosta de DANone\n"
     ]
    }
   ],
   "source": [
    "# NULL\n",
    "\n",
    "valor = None\n",
    "print(type(valor))\n",
    "print(f\"Criança gosta de DA{valor}\")"
   ]
  },
  {
   "cell_type": "markdown",
   "id": "4f1de4ef-c5b4-4cc0-8a3f-ff3074350dc5",
   "metadata": {},
   "source": [
    "### PRÁTICA\n",
    "### Os códigos foram desenvolvidos manualmente a partir de estudo e conhecimento próprio. As sugestões de atividades e dicas foram geradas pelo Gemini, sem inclusão de código. "
   ]
  },
  {
   "cell_type": "markdown",
   "id": "a19c5fb3-a143-47c7-9dd6-7d500b4f193a",
   "metadata": {},
   "source": [
    "### 1) Atividade Básica\n",
    "Para cada um dos seguintes cenários, escolha o tipo de dado mais apropriado e crie uma variável com um valor de exemplo. Em seguida, imprima o valor.\n",
    "\n",
    "* A quantidade de alunos em uma sala.\n",
    "* O nome de uma cidade.\n",
    "* Se um produto está em promoção (sim/não).\n",
    "* Uma lista dos seus hobbies favoritos.\n",
    "* O preço de um café."
   ]
  },
  {
   "cell_type": "code",
   "execution_count": 103,
   "id": "cb40a679-35c8-41de-969a-29ab69e51610",
   "metadata": {},
   "outputs": [
    {
     "name": "stdout",
     "output_type": "stream",
     "text": [
      "Total de Alunos = 55\n",
      "O nome na cidade é Barcarena\n",
      "Produto em promoção? Sim\n",
      "Meus principais Hobies são: ['Ler', 'Fazer Origami', 'Concertar Computador']\n",
      "O valor do café está R$ 13.34 reais\n"
     ]
    }
   ],
   "source": [
    "# A quantidade de alunos em uma sala.\n",
    "alunos = 55\n",
    "print(f\"Total de Alunos = {alunos}\")\n",
    "# O nome de uma cidade.\n",
    "cidade = \"Barcarena\"\n",
    "print(f\"O nome na cidade é {cidade}\")\n",
    "\n",
    "# Se um produto está em promoção (sim/não).\n",
    "status_promocao_produto = True\n",
    "status_produto = \"Aguardando\"\n",
    "if status_promocao_produto == True:\n",
    "    status_produto = \"Sim\"\n",
    "else:\n",
    "    status_produto = \"Nao\"\n",
    "print(f\"Produto em promoção? {status_produto}\")\n",
    "\n",
    "# Uma lista dos seus hobbies favoritos.\n",
    "hobies = [\"Ler\",\"Fazer Origami\",\"Concertar Computador\"]\n",
    "print(f\"Meus principais Hobies são: {hobies}\")\n",
    "\n",
    "# O preço de um café.\n",
    "preco_cafe = 13.34\n",
    "print(f\"O valor do café está R$ {preco_cafe} reais\")"
   ]
  },
  {
   "cell_type": "markdown",
   "id": "8b564106-cc04-407a-9b5c-1dbdd3d4296e",
   "metadata": {},
   "source": [
    "### 2) Atividade Intermediária\n",
    "Imagine que você está criando um sistema simples para gerenciar informações de um evento.\n",
    "\n",
    "Crie variáveis usando os tipos de dados apropriados para armazenar as seguintes informações:\n",
    "\n",
    "* Nome do Evento: (Ex: \"Workshop de Python para Iniciantes\")\n",
    "* Data do Evento: (Ex: \"25/12/2025\") - Pense em como representar isso como string por enquanto.\n",
    "* Capacidade Máxima de Participantes: (Ex: 100)\n",
    "* Inscrições Atuais: (Ex: 75)\n",
    "* Valor da Inscrição: (Ex: 99.90)\n",
    "* Palestrantes: Uma lista com os nomes dos palestrantes (Ex: [\"Ana\", \"Bruno\", \"Carla\"]).\n",
    "* Detalhes do Local: Um dicionário com a chave \"endereço\" e \"sala\" (Ex: {\"endereço\": \"Rua Principal, 123\", \"sala\": \"Auditório B\"}).\n",
    "* Evento Aberto para Inscrições: Um valor booleano (True ou False)."
   ]
  },
  {
   "cell_type": "code",
   "execution_count": 131,
   "id": "7bf5120c-cbf0-4595-b2f1-0941b96818ac",
   "metadata": {},
   "outputs": [
    {
     "name": "stdin",
     "output_type": "stream",
     "text": [
      "Nome do evento:  Festa da Empresa\n",
      "Data do evento no formato (24/06/2025):  29/16/2025\n",
      "Capacidade de Participantes:  150\n",
      "Total de inscrições atuais:  85\n",
      "Valor da inscrição:  R$ 35.00\n",
      "Total de Palestrantes:  Marcos, Paloma, Paulo\n",
      "Endereço do local:  Rua Germanho Pimentel, Quadra 07 Lote 02\n",
      "Status do evento:  Aberto\n"
     ]
    }
   ],
   "source": [
    "# VARIÁVEIS\n",
    "nome_evento               = str()\n",
    "data_evento               = str()\n",
    "capacidade_participantes  = int()\n",
    "inscricoes_atuais         = int()\n",
    "valor_inscricao           = float()\n",
    "palestrantes              = list()\n",
    "detalhes_local            = dict()\n",
    "status_evento_inscricoes  = bool()\n",
    "\n",
    "# ATRIBUIÇOES\n",
    "nome_evento              = input(\"Nome do evento: \")\n",
    "data_evento              = input(\"Data do evento no formato (24/06/2025): \")\n",
    "capacidade_participantes = input(\"Capacidade de Participantes: \")\n",
    "inscricoes_atuais        = input(\"Total de inscrições atuais: \")\n",
    "valor_inscricao          = input(\"Valor da inscrição: \")\n",
    "nome_evento              = input(\"Total de Palestrantes: \")\n",
    "detalhes_local           = input(\"Endereço do local: \")\n",
    "status_evento_inscricoes = input(\"Status do evento: \")"
   ]
  }
 ],
 "metadata": {
  "kernelspec": {
   "display_name": "Python 3 (ipykernel)",
   "language": "python",
   "name": "python3"
  },
  "language_info": {
   "codemirror_mode": {
    "name": "ipython",
    "version": 3
   },
   "file_extension": ".py",
   "mimetype": "text/x-python",
   "name": "python",
   "nbconvert_exporter": "python",
   "pygments_lexer": "ipython3",
   "version": "3.13.5"
  }
 },
 "nbformat": 4,
 "nbformat_minor": 5
}
