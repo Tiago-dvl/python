{
 "cells": [
  {
   "cell_type": "markdown",
   "id": "1e46ec70-25ea-4ef2-a874-d180a89d541f",
   "metadata": {},
   "source": [
    "# SCRIPT PYTHON "
   ]
  },
  {
   "cell_type": "markdown",
   "id": "11af0fc7-6a0e-4329-abbe-7903d34d4b73",
   "metadata": {},
   "source": [
    "### Os scripts Python a seguir serão utilizados para prática e refinamento do aprendizado."
   ]
  },
  {
   "cell_type": "code",
   "execution_count": 3,
   "id": "bf544990-64f7-46ce-aee1-b2c25f6e9c8a",
   "metadata": {},
   "outputs": [
    {
     "name": "stdin",
     "output_type": "stream",
     "text": [
      "Insira um número: q\n"
     ]
    },
    {
     "name": "stdout",
     "output_type": "stream",
     "text": [
      "Erro, tente novamente!\n"
     ]
    },
    {
     "name": "stdin",
     "output_type": "stream",
     "text": [
      "Insira um número: a\n"
     ]
    },
    {
     "name": "stdout",
     "output_type": "stream",
     "text": [
      "Erro, tente novamente!\n"
     ]
    },
    {
     "name": "stdin",
     "output_type": "stream",
     "text": [
      "Insira um número: d\n"
     ]
    },
    {
     "name": "stdout",
     "output_type": "stream",
     "text": [
      "Erro, tente novamente!\n"
     ]
    },
    {
     "name": "stdin",
     "output_type": "stream",
     "text": [
      "Insira um número: r\n"
     ]
    },
    {
     "name": "stdout",
     "output_type": "stream",
     "text": [
      "Erro, tente novamente!\n"
     ]
    },
    {
     "name": "stdin",
     "output_type": "stream",
     "text": [
      "Insira um número: e\n"
     ]
    },
    {
     "name": "stdout",
     "output_type": "stream",
     "text": [
      "Erro, tente novamente!\n"
     ]
    },
    {
     "name": "stdin",
     "output_type": "stream",
     "text": [
      "Insira um número: 12.0\n"
     ]
    },
    {
     "name": "stdout",
     "output_type": "stream",
     "text": [
      "Isso é um número! Acertou!\n"
     ]
    }
   ],
   "source": [
    "# SOLICITA UMA ENTRADA ATÉ RECEBER UM NÚMERO\n",
    "y = True\n",
    "while y == True:\n",
    "  x = input(\"Insira um número:\")\n",
    "  try:\n",
    "    x = float(x);\n",
    "    y = False\n",
    "  except:\n",
    "    print(\"Erro, tente novamente!\")\n",
    "\n",
    "print(\"Isso é um número! Acertou!\")"
   ]
  }
 ],
 "metadata": {
  "kernelspec": {
   "display_name": "Python 3 (ipykernel)",
   "language": "python",
   "name": "python3"
  },
  "language_info": {
   "codemirror_mode": {
    "name": "ipython",
    "version": 3
   },
   "file_extension": ".py",
   "mimetype": "text/x-python",
   "name": "python",
   "nbconvert_exporter": "python",
   "pygments_lexer": "ipython3",
   "version": "3.13.5"
  }
 },
 "nbformat": 4,
 "nbformat_minor": 5
}
