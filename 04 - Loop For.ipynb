{
 "cells": [
  {
   "cell_type": "markdown",
   "id": "910a9e99-7cc9-43be-b8ed-402eee701f5b",
   "metadata": {},
   "source": [
    "# LOOP FOR ... IN"
   ]
  },
  {
   "cell_type": "markdown",
   "id": "c52b07fe-362c-494b-b368-b773d901108b",
   "metadata": {},
   "source": [
    "### ESTUDO\n",
    "### Os códigos abaixo foram gerados inicialmente pelo Gemini e ajustados com pequenas modificações para desenvolver o aprendizado. "
   ]
  },
  {
   "cell_type": "code",
   "execution_count": 75,
   "id": "272aa2b3-7d71-43b6-a8c9-688b690e7034",
   "metadata": {},
   "outputs": [
    {
     "name": "stdout",
     "output_type": "stream",
     "text": [
      "Ford\n",
      "Fiat\n",
      "Renault\n"
     ]
    }
   ],
   "source": [
    "# Loop pela Lista\n",
    "carros = [\"Ford\",\"Fiat\",\"Renault\"]\n",
    "\n",
    "for x in carros:\n",
    "    print(x)"
   ]
  },
  {
   "cell_type": "code",
   "execution_count": 76,
   "id": "7b496490-96c0-47d0-b203-4070addf011e",
   "metadata": {},
   "outputs": [
    {
     "name": "stdout",
     "output_type": "stream",
     "text": [
      "A\n",
      "B\n",
      "C\n",
      "D\n",
      "E\n",
      "F\n"
     ]
    }
   ],
   "source": [
    "# Loop pela palavra\n",
    "for x in \"ABCDEF\":\n",
    "    print(x)"
   ]
  },
  {
   "cell_type": "code",
   "execution_count": 77,
   "id": "67ade66b-2c54-40ee-b65b-782812a8b1fe",
   "metadata": {},
   "outputs": [
    {
     "name": "stdout",
     "output_type": "stream",
     "text": [
      "Call of Duty\n",
      "Pac-man\n",
      "Forza4\n",
      "Forza encontrado\n"
     ]
    }
   ],
   "source": [
    "# loop com Break, para finalizar a iteraçào antes ded percorrer todos os ítens\n",
    "jogos = [\"Call of Duty\",\"Pac-man\",\"Forza4\",\"Dirt3\"]\n",
    "\n",
    "for x in jogos:\n",
    "    print(x)\n",
    "    if x == \"Forza4\":\n",
    "        print(\"Forza encontrado\")\n",
    "        break\n"
   ]
  },
  {
   "cell_type": "code",
   "execution_count": 78,
   "id": "e4c42d48-28cc-4a63-a652-6011dd33bb1c",
   "metadata": {},
   "outputs": [
    {
     "name": "stdout",
     "output_type": "stream",
     "text": [
      "Call of Duty\n",
      "Pac-man\n"
     ]
    }
   ],
   "source": [
    "# Sair do Loop antes do Print()\n",
    "\n",
    "for x in jogos:\n",
    "    if x == \"Forza4\":\n",
    "        break\n",
    "    print(x)\n"
   ]
  },
  {
   "cell_type": "code",
   "execution_count": 79,
   "id": "6d0c7213-75f5-42ae-802a-c8c9fedfbb44",
   "metadata": {},
   "outputs": [
    {
     "name": "stdout",
     "output_type": "stream",
     "text": [
      "A\n",
      "B\n",
      "Letra C encontrada, continuando...\n",
      "D\n",
      "E\n",
      "F\n",
      "G\n"
     ]
    }
   ],
   "source": [
    "# A declaração Continue intera sobre a condição e continua\n",
    "letras = [\"A\",\"B\",\"C\",\"D\",\"E\",\"F\",\"G\"]\n",
    "\n",
    "for x in letras:\n",
    "    if x == \"C\":\n",
    "        print(\"Letra C encontrada, continuando...\")\n",
    "        continue\n",
    "    print(x)"
   ]
  },
  {
   "cell_type": "code",
   "execution_count": 80,
   "id": "7a3f3a3f-48c0-46f2-a308-e41c38761648",
   "metadata": {},
   "outputs": [
    {
     "name": "stdout",
     "output_type": "stream",
     "text": [
      "0\n",
      "1\n",
      "2\n",
      "3\n",
      "4\n",
      "5\n",
      "6\n",
      "7\n"
     ]
    }
   ],
   "source": [
    "# Loop For com Range()\n",
    "for x in range(8):\n",
    "    print(x)"
   ]
  },
  {
   "cell_type": "code",
   "execution_count": 81,
   "id": "35a3c83b-3209-4863-93e1-2c8d4be11dd7",
   "metadata": {},
   "outputs": [
    {
     "name": "stdout",
     "output_type": "stream",
     "text": [
      "2\n",
      "5\n",
      "8\n",
      "11\n",
      "14\n",
      "17\n",
      "20\n",
      "23\n",
      "26\n",
      "29\n"
     ]
    }
   ],
   "source": [
    "# Loop for com Range(), pulando á cada 3 caracteres\n",
    "for x in range(2, 30, 3):\n",
    "  print(x)"
   ]
  },
  {
   "cell_type": "code",
   "execution_count": 82,
   "id": "9fb806b3-f44d-43cb-bb26-c17cc3c93952",
   "metadata": {},
   "outputs": [
    {
     "name": "stdout",
     "output_type": "stream",
     "text": [
      "Banana Amarela\n",
      "Maçã Amarela\n",
      "Melancia Amarela\n",
      "Banana Saborosa\n",
      "Maçã Saborosa\n",
      "Melancia Saborosa\n"
     ]
    }
   ],
   "source": [
    "# Loop alinhadom o Loop Interne será executado uma vez para cada iteraçào do Loop Externo\n",
    "\n",
    "adj = [\"Amarela\", \"Saborosa\"]\n",
    "fruits = [\"Banana\", \"Maçã\", \"Melancia\"]\n",
    "\n",
    "for x in adj:\n",
    "  for y in fruits:\n",
    "    print(y,x)"
   ]
  },
  {
   "cell_type": "markdown",
   "id": "c044a1b3-8f71-4cf7-a436-f75c9e243935",
   "metadata": {},
   "source": [
    "### PRÁTICA\n",
    "### Os códigos foram desenvolvidos manualmente a partir de estudo e conhecimento próprio. As sugestões de atividades e dicas foram geradas pelo Gemini, sem inclusão de código. "
   ]
  },
  {
   "cell_type": "markdown",
   "id": "ebfa8c71-8537-4ef5-a0f7-99b9f369111a",
   "metadata": {},
   "source": [
    "### 2) Atividade Básica\n",
    "Crie uma lista com os nomes dos seus três animais favoritos.\n",
    "\n",
    "* Use um for loop para imprimir uma saudação para cada animal, no formato: \"Olá, [nome_do_animal]!\"."
   ]
  },
  {
   "cell_type": "code",
   "execution_count": 83,
   "id": "e9280b29-b968-4a74-a8fe-eea94c44da2c",
   "metadata": {},
   "outputs": [
    {
     "name": "stdout",
     "output_type": "stream",
     "text": [
      "Olá, Penelope!\n",
      "Olá, Snoop!\n",
      "Olá, Mel!\n",
      "Olá, Neide!\n"
     ]
    }
   ],
   "source": [
    "pets_favoritos = [\"Penelope\",\"Snoop\",\"Mel\",\"Neide\"]\n",
    "menssagem = [\"Olá\"]\n",
    "for x in pets_favoritos:\n",
    "    for y in menssagem:\n",
    "        print(f\"{y}, {x}!\")"
   ]
  },
  {
   "cell_type": "markdown",
   "id": "a79e85f3-bc8f-4f15-9f4a-dd03a057e198",
   "metadata": {},
   "source": [
    "### 3) Atividade Intermediária\n",
    "Você tem uma lista de produtos em uma loja, cada um com seu preço.\n",
    "\n",
    "Crie uma lista de dicionários, onde cada dicionário representa um produto e tem as chaves \"nome\" e \"preco\".\n",
    "Por exemplo: produtos = [{\"nome\": \"Teclado\", \"preco\": 150.00}, {\"nome\": \"Mouse\", \"preco\": 75.50}]\n",
    "\n",
    "Use um for loop para:\n",
    "\n",
    "* Iterar sobre a lista de produtos.\n",
    "* Para cada produto, imprima o nome e o preço.\n",
    "* Calcule a soma total dos preços de todos os produtos na lista e imprima o resultado final após o loop.\n",
    "* Lembre-se de iniciar uma variável para o total (total_precos = 0) antes do loop e adicionar o preço de cada produto a ela dentro do loop."
   ]
  },
  {
   "cell_type": "code",
   "execution_count": 85,
   "id": "f4b0a02e-bd14-4802-b093-fe8efec8f45f",
   "metadata": {},
   "outputs": [
    {
     "name": "stdout",
     "output_type": "stream",
     "text": [
      "{'Nome': 'Monitor', 'Preco': '500'}\n",
      "{'Nome': 'Gabinete', 'Preco': '350'}\n",
      "{'Nome': 'Teclado', 'Preco': '240'}\n",
      "{'Nome': 'Mouse', 'Preco': '70'}\n",
      "{'Nome': 'Caixa de Som', 'Preco': '40'}\n",
      "{'Nome': 'Web Cam', 'Preco': '120'}\n"
     ]
    }
   ],
   "source": [
    "produtos = [\n",
    "    {\"Nome\":\"Monitor\",\"Preco\":\"500\"},\n",
    "    {\"Nome\":\"Gabinete\",\"Preco\":\"350\"},\n",
    "    {\"Nome\":\"Teclado\",\"Preco\":\"240\"},\n",
    "    {\"Nome\":\"Mouse\",\"Preco\":\"70\"},\n",
    "    {\"Nome\":\"Caixa de Som\",\"Preco\":\"40\"},\n",
    "    {\"Nome\":\"Web Cam\",\"Preco\":\"120\"}\n",
    "]\n",
    "\n",
    "variavel_produto = str()\n",
    "\n",
    "for x in produtos:\n",
    "    variavel_produto = x\n",
    "    print(x)"
   ]
  }
 ],
 "metadata": {
  "kernelspec": {
   "display_name": "Python 3 (ipykernel)",
   "language": "python",
   "name": "python3"
  },
  "language_info": {
   "codemirror_mode": {
    "name": "ipython",
    "version": 3
   },
   "file_extension": ".py",
   "mimetype": "text/x-python",
   "name": "python",
   "nbconvert_exporter": "python",
   "pygments_lexer": "ipython3",
   "version": "3.13.5"
  }
 },
 "nbformat": 4,
 "nbformat_minor": 5
}
